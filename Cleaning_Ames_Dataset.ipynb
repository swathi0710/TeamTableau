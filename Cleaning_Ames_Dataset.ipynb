{
  "nbformat": 4,
  "nbformat_minor": 0,
  "metadata": {
    "colab": {
      "provenance": []
    },
    "kernelspec": {
      "name": "python3",
      "display_name": "Python 3"
    },
    "language_info": {
      "name": "python"
    }
  },
  "cells": [
    {
      "cell_type": "code",
      "execution_count": 16,
      "metadata": {
        "id": "m0Zwy-yI0GKX"
      },
      "outputs": [],
      "source": [
        "import pandas as pd\n",
        "import numpy as np\n"
      ]
    },
    {
      "cell_type": "code",
      "source": [
        "\n",
        "# Creating a data wrangle function.\n",
        "def wrangle(filepath):\n",
        "    # importing the dataset.\n",
        "    df = pd.read_csv(filepath)\n",
        "    \n",
        "    #Can see all the columns with this code.\n",
        "    #pd.pandas.set_option('display.max_rows', None)\n",
        "    \n",
        "    # Below code gives percentage of null in every column\n",
        "    null_percentage = df.isnull().sum()/df.shape[0]*100\n",
        "    # Below code gives list of columns having more than 60% null\n",
        "    col_to_drop = null_percentage[null_percentage>60].keys()\n",
        "    df.drop(col_to_drop, axis=1,inplace=True)\n",
        "    \n",
        "    #Removing all the columns which are less than three.\n",
        "    df.drop(columns=[\"Street\"],inplace = True)\n",
        "    #Removing columns with high cardinality.\n",
        "    df.drop(columns=[\"Neighborhood\",\"Exterior2nd\",\"Utilities\",\"CentralAir\",\"LotFrontage\"],inplace=True)\n",
        "    print(col_to_drop)\n",
        "    return df\n"
      ],
      "metadata": {
        "id": "RPBZrOPO0Teu"
      },
      "execution_count": 39,
      "outputs": []
    },
    {
      "cell_type": "code",
      "source": [
        "df = wrangle(\"https://raw.githubusercontent.com/swathi0710/HDSCFall22_Team-Tableau/main/train.csv\")"
      ],
      "metadata": {
        "colab": {
          "base_uri": "https://localhost:8080/"
        },
        "id": "B-MHBK6n0WBb",
        "outputId": "2b875eba-a176-481f-de2d-edbe50d59827"
      },
      "execution_count": 40,
      "outputs": [
        {
          "output_type": "stream",
          "name": "stdout",
          "text": [
            "Index(['Alley', 'PoolQC', 'Fence', 'MiscFeature'], dtype='object')\n"
          ]
        }
      ]
    },
    {
      "cell_type": "code",
      "source": [
        "df.select_dtypes(\"object\").nunique()"
      ],
      "metadata": {
        "id": "SPWOIF3Q0kWX"
      },
      "execution_count": null,
      "outputs": []
    },
    {
      "cell_type": "code",
      "source": [
        "na=df.isna().sum().sort_values(ascending=False)\n",
        "na"
      ],
      "metadata": {
        "id": "ms-ayDpP0v31",
        "colab": {
          "base_uri": "https://localhost:8080/"
        },
        "outputId": "5e5aed92-1c38-4249-ee74-7598b99efac6"
      },
      "execution_count": 42,
      "outputs": [
        {
          "output_type": "execute_result",
          "data": {
            "text/plain": [
              "FireplaceQu     690\n",
              "GarageCond       81\n",
              "GarageType       81\n",
              "GarageYrBlt      81\n",
              "GarageFinish     81\n",
              "               ... \n",
              "Heating           0\n",
              "HeatingQC         0\n",
              "MSSubClass        0\n",
              "1stFlrSF          0\n",
              "SalePrice         0\n",
              "Length: 71, dtype: int64"
            ]
          },
          "metadata": {},
          "execution_count": 42
        }
      ]
    },
    {
      "cell_type": "code",
      "source": [
        "df['FireplaceQu'].unique()"
      ],
      "metadata": {
        "colab": {
          "base_uri": "https://localhost:8080/"
        },
        "id": "pNlpg1VOlETV",
        "outputId": "804f164f-8ee6-4474-f737-e994fc82ca24"
      },
      "execution_count": 47,
      "outputs": [
        {
          "output_type": "execute_result",
          "data": {
            "text/plain": [
              "array(['NA', 'TA', 'Gd', 'Fa', 'Ex', 'Po'], dtype=object)"
            ]
          },
          "metadata": {},
          "execution_count": 47
        }
      ]
    },
    {
      "cell_type": "code",
      "source": [
        "df.isnull().sum().sort_values(ascending=False)"
      ],
      "metadata": {
        "colab": {
          "base_uri": "https://localhost:8080/"
        },
        "id": "zPDvrFdqeACG",
        "outputId": "08c12a5c-1b4c-4015-93f8-9b968696e032"
      },
      "execution_count": 50,
      "outputs": [
        {
          "output_type": "execute_result",
          "data": {
            "text/plain": [
              "Id              0\n",
              "KitchenAbvGr    0\n",
              "GarageType      0\n",
              "FireplaceQu     0\n",
              "Fireplaces      0\n",
              "               ..\n",
              "Foundation      0\n",
              "ExterCond       0\n",
              "ExterQual       0\n",
              "MasVnrArea      0\n",
              "SalePrice       0\n",
              "Length: 71, dtype: int64"
            ]
          },
          "metadata": {},
          "execution_count": 50
        }
      ]
    },
    {
      "cell_type": "markdown",
      "source": [
        "Dropping columns with unwanted correlation to SalePrice"
      ],
      "metadata": {
        "id": "iG3pgJKMhWuc"
      }
    },
    {
      "cell_type": "code",
      "source": [
        "df=df.drop([\"Id\",\"Unnamed: 0\"],axis=1)"
      ],
      "metadata": {
        "id": "j9TEsBHrgYwn"
      },
      "execution_count": 51,
      "outputs": []
    },
    {
      "cell_type": "markdown",
      "source": [
        "Conversion of Ordinal values to Numerical data types"
      ],
      "metadata": {
        "id": "Pg482tt5cPy-"
      }
    },
    {
      "cell_type": "code",
      "source": [
        "for col in ['KitchenQual','FireplaceQu','GarageQual', 'GarageCond','BsmtQual','BsmtCond',\n",
        "               'HeatingQC','ExterQual','ExterCond',]:\n",
        "    df[col] = df[col].replace({'Ex':5,'Gd':4,'TA': 3,'Fa': 2,'Po': 1,'NA':0}).fillna(0)"
      ],
      "metadata": {
        "id": "2W-eMxjM5PN-"
      },
      "execution_count": 52,
      "outputs": []
    },
    {
      "cell_type": "code",
      "source": [
        "for col in ['KitchenQual','FireplaceQu','GarageQual', 'GarageCond','BsmtQual','BsmtCond',\n",
        "               'HeatingQC','ExterQual','ExterCond',]:\n",
        "               df[col]=df[col].astype(int)"
      ],
      "metadata": {
        "id": "pJRUoF-2u1Z7"
      },
      "execution_count": 53,
      "outputs": []
    },
    {
      "cell_type": "code",
      "source": [
        "df.to_csv(\"PremierProject.csv\")"
      ],
      "metadata": {
        "id": "AuiuDfk_mfVA"
      },
      "execution_count": 56,
      "outputs": []
    }
  ]
}